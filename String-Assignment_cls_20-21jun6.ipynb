{
 "cells": [
  {
   "cell_type": "markdown",
   "id": "dc45aca0-5ddb-4d2b-82b0-ce75e680987c",
   "metadata": {},
   "source": [
    "# Day 6"
   ]
  },
  {
   "cell_type": "markdown",
   "id": "872abf3e-ffd7-4144-ad7f-92bed6c72ac2",
   "metadata": {},
   "source": [
    "#  1.Find the length of given string (given by user) without using len() function"
   ]
  },
  {
   "cell_type": "code",
   "execution_count": 1,
   "id": "335fa2fd-5283-43d7-aed0-76ebc47e45de",
   "metadata": {},
   "outputs": [
    {
     "name": "stdin",
     "output_type": "stream",
     "text": [
      " sahgd\n"
     ]
    },
    {
     "name": "stdout",
     "output_type": "stream",
     "text": [
      "5\n"
     ]
    }
   ],
   "source": [
    "\n",
    "a = input()\n",
    "sum = 0\n",
    "for i in a:\n",
    "    sum += 1\n",
    "print(sum)"
   ]
  },
  {
   "cell_type": "markdown",
   "id": "1e0a5a04-6d16-4080-b8b9-e237ac456212",
   "metadata": {},
   "source": [
    "# 2.Extract user-id from given mail i'd ,eg if the mail is sagarlokhande159@gmail.com ,then  user name should be \"sagarlokhande159\""
   ]
  },
  {
   "cell_type": "code",
   "execution_count": 2,
   "id": "3d579506-7d38-4dd3-a00a-e30b8ae401ac",
   "metadata": {},
   "outputs": [
    {
     "name": "stdin",
     "output_type": "stream",
     "text": [
      " sagarlokhande159@gmail.com\n"
     ]
    },
    {
     "name": "stdout",
     "output_type": "stream",
     "text": [
      "sagarlokhande159\n"
     ]
    }
   ],
   "source": [
    "s = input()\n",
    "sum =\"\"\n",
    "for i in s:\n",
    "    if i==\"@\":\n",
    "        break\n",
    "    elif i.isalnum:\n",
    "        sum = sum+i\n",
    "\n",
    "print(sum)\n",
    "        "
   ]
  },
  {
   "cell_type": "code",
   "execution_count": 3,
   "id": "4eba07f7-ec77-4167-93f4-f1f2eb11800f",
   "metadata": {},
   "outputs": [
    {
     "name": "stdin",
     "output_type": "stream",
     "text": [
      " sagarlokhande159@gmail.com\n"
     ]
    },
    {
     "name": "stdout",
     "output_type": "stream",
     "text": [
      "sagarlokhande159\n"
     ]
    }
   ],
   "source": [
    "mail = input()\n",
    "poss = mail.index(\"@\")\n",
    "print(mail[0:poss])"
   ]
  },
  {
   "cell_type": "markdown",
   "id": "c99a0f93-ce79-45b2-b4a2-10fb110c42df",
   "metadata": {},
   "source": [
    "# 3.Count the frequency of perticular character in provided string, Eg \"hello hpw are you\" is the string, the frequency of \"h\" in this string is 2 without using count function"
   ]
  },
  {
   "cell_type": "code",
   "execution_count": 7,
   "id": "9881df60-9b1c-4a5c-8e13-c58db4910cc3",
   "metadata": {},
   "outputs": [
    {
     "name": "stdin",
     "output_type": "stream",
     "text": [
      " my name is hello ha ha \n",
      " h\n"
     ]
    },
    {
     "name": "stdout",
     "output_type": "stream",
     "text": [
      "3\n"
     ]
    }
   ],
   "source": [
    "a = input()\n",
    "find = input()\n",
    "counter =0\n",
    "for i in a:\n",
    "    if find ==i:\n",
    "        counter +=1\n",
    "print(counter)\n",
    "        "
   ]
  },
  {
   "cell_type": "markdown",
   "id": "f36052d7-6ca8-4072-9382-57cf24f068ac",
   "metadata": {},
   "source": [
    "# 4.Write a program which can remove a perticular character from string"
   ]
  },
  {
   "cell_type": "code",
   "execution_count": 8,
   "id": "15350a60-1353-43d2-b83b-ac3ea89bd710",
   "metadata": {},
   "outputs": [
    {
     "name": "stdin",
     "output_type": "stream",
     "text": [
      " sagar \n",
      " a\n"
     ]
    },
    {
     "name": "stdout",
     "output_type": "stream",
     "text": [
      "sgr \n"
     ]
    }
   ],
   "source": [
    "a = input()\n",
    "remove =input()\n",
    "sum = \"\"\n",
    "for i in a :\n",
    "    if i == remove:\n",
    "        continue\n",
    "    else:\n",
    "        sum =sum +i\n",
    "\n",
    "\n",
    "print(sum)"
   ]
  },
  {
   "cell_type": "markdown",
   "id": "ac5e3372-8f2f-49ca-a75e-41b6303989ed",
   "metadata": {},
   "source": [
    "# 5.Write a program to count the number of words in a string without split()"
   ]
  },
  {
   "cell_type": "code",
   "execution_count": 9,
   "id": "87268cdd-cbb1-4ee8-aabd-cad814f8ef9c",
   "metadata": {},
   "outputs": [
    {
     "name": "stdin",
     "output_type": "stream",
     "text": [
      "Enter the number:  hugd sks sjshdusd\n"
     ]
    },
    {
     "name": "stdout",
     "output_type": "stream",
     "text": [
      "hugd sks sjshdusd\n",
      "The total number of words in string is : 3\n"
     ]
    }
   ],
   "source": [
    "str = input(\"Enter the number: \")\n",
    "counter = 0\n",
    "totalCH =0\n",
    "for i in str :\n",
    "    print(i,end =\"\")\n",
    "    totalCH+=1\n",
    "    counter =str.count(\" \")+1\n",
    "    \n",
    "print()\n",
    "if str[0] ==\" \" :\n",
    "    counter-=1\n",
    "    \n",
    "if str[totalCH-1] ==\" \":\n",
    "    counter-=1\n",
    "    \n",
    "print(\"The total number of words in string is :\",counter)"
   ]
  },
  {
   "cell_type": "markdown",
   "id": "f5ae4112-bc28-44ae-a10f-2ef3d4d3816a",
   "metadata": {},
   "source": [
    "# 6.Write a python program to convert a string to title case without using the title()"
   ]
  },
  {
   "cell_type": "code",
   "execution_count": 15,
   "id": "2d71520c-e443-40b2-b3c9-3b91b0d2ce00",
   "metadata": {},
   "outputs": [
    {
     "name": "stdin",
     "output_type": "stream",
     "text": [
      " gftygvb dtyuhgvbk dugv\n"
     ]
    },
    {
     "name": "stdout",
     "output_type": "stream",
     "text": [
      "Gftygvb Ddtyuhgvbk Ddugv\n"
     ]
    }
   ],
   "source": [
    "string = input()\n",
    "length = len(string)\n",
    "result = \"\"\n",
    "for i in range(length):\n",
    "    char = string[i]\n",
    "    if i == 0:\n",
    "        result = result + char.upper()\n",
    "    elif char == \" \":\n",
    "        char = string[i+1]\n",
    "        result = result + \" \" + char.upper()\n",
    "        i = i+1\n",
    "    else:\n",
    "        result = result + char\n",
    "print(result)"
   ]
  },
  {
   "cell_type": "markdown",
   "id": "96f97bc5-0b2d-4781-bf8e-72106bebbd82",
   "metadata": {},
   "source": [
    "# 7.write a program that can check whether a given string is palindrom or not.\n",
    "DAD ,\n",
    "malayalam"
   ]
  },
  {
   "cell_type": "code",
   "execution_count": 17,
   "id": "0773c0ed-62c7-46d7-80c3-45f60ff74114",
   "metadata": {},
   "outputs": [
    {
     "name": "stdin",
     "output_type": "stream",
     "text": [
      " abba\n"
     ]
    },
    {
     "name": "stdout",
     "output_type": "stream",
     "text": [
      "The given string is palindrom\n"
     ]
    }
   ],
   "source": [
    "n = input()\n",
    "sum = \"\"\n",
    "for i in n:\n",
    "    sum = i+sum\n",
    "if sum == n:\n",
    "    print(\"The given string is palindrom\")\n",
    "\n",
    "else:\n",
    "    print(\"This is not palindrom!!!\")"
   ]
  },
  {
   "cell_type": "code",
   "execution_count": null,
   "id": "673ba25a-629c-497a-823e-98488331d17f",
   "metadata": {},
   "outputs": [],
   "source": []
  }
 ],
 "metadata": {
  "kernelspec": {
   "display_name": "Python 3 (ipykernel)",
   "language": "python",
   "name": "python3"
  },
  "language_info": {
   "codemirror_mode": {
    "name": "ipython",
    "version": 3
   },
   "file_extension": ".py",
   "mimetype": "text/x-python",
   "name": "python",
   "nbconvert_exporter": "python",
   "pygments_lexer": "ipython3",
   "version": "3.11.7"
  }
 },
 "nbformat": 4,
 "nbformat_minor": 5
}
